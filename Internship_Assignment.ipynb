{
  "nbformat": 4,
  "nbformat_minor": 0,
  "metadata": {
    "colab": {
      "name": "Internship_Assignment.ipynb",
      "provenance": []
    },
    "kernelspec": {
      "name": "python3",
      "display_name": "Python 3"
    },
    "accelerator": "GPU"
  },
  "cells": [
    {
      "cell_type": "markdown",
      "metadata": {
        "id": "Z6Q8rr3rRLkV",
        "colab_type": "text"
      },
      "source": [
        "#Import Libraries"
      ]
    },
    {
      "cell_type": "code",
      "metadata": {
        "id": "VTTP8y5RQ9nw",
        "colab_type": "code",
        "colab": {
          "base_uri": "https://localhost:8080/",
          "height": 80
        },
        "outputId": "02bfd5a6-63cf-478b-ddcc-6c90e635ffe9"
      },
      "source": [
        "import tensorflow as tf\n",
        "import keras\n",
        "import numpy as np\n",
        "import pandas as pd\n",
        "from sklearn import preprocessing\n",
        "from sklearn import model_selection\n",
        "import matplotlib.pyplot as plt\n",
        "from sklearn.metrics import confusion_matrix,accuracy_score\n"
      ],
      "execution_count": 1,
      "outputs": [
        {
          "output_type": "display_data",
          "data": {
            "text/html": [
              "<p style=\"color: red;\">\n",
              "The default version of TensorFlow in Colab will soon switch to TensorFlow 2.x.<br>\n",
              "We recommend you <a href=\"https://www.tensorflow.org/guide/migrate\" target=\"_blank\">upgrade</a> now \n",
              "or ensure your notebook will continue to use TensorFlow 1.x via the <code>%tensorflow_version 1.x</code> magic:\n",
              "<a href=\"https://colab.research.google.com/notebooks/tensorflow_version.ipynb\" target=\"_blank\">more info</a>.</p>\n"
            ],
            "text/plain": [
              "<IPython.core.display.HTML object>"
            ]
          },
          "metadata": {
            "tags": []
          }
        },
        {
          "output_type": "stream",
          "text": [
            "Using TensorFlow backend.\n"
          ],
          "name": "stderr"
        }
      ]
    },
    {
      "cell_type": "markdown",
      "metadata": {
        "id": "ykjQzkjFNtH0",
        "colab_type": "text"
      },
      "source": [
        "#Importing Dataset For the task completion"
      ]
    },
    {
      "cell_type": "code",
      "metadata": {
        "id": "JhuW1pjURP9B",
        "colab_type": "code",
        "colab": {}
      },
      "source": [
        "dataset =pd.read_csv(\"musk.csv\")"
      ],
      "execution_count": 0,
      "outputs": []
    },
    {
      "cell_type": "code",
      "metadata": {
        "id": "Krpac_KXR5ii",
        "colab_type": "code",
        "colab": {
          "base_uri": "https://localhost:8080/",
          "height": 34
        },
        "outputId": "a2481947-02f1-44ff-b2c1-93fe14bbc967"
      },
      "source": [
        "dataset.shape"
      ],
      "execution_count": 3,
      "outputs": [
        {
          "output_type": "execute_result",
          "data": {
            "text/plain": [
              "(6598, 170)"
            ]
          },
          "metadata": {
            "tags": []
          },
          "execution_count": 3
        }
      ]
    },
    {
      "cell_type": "markdown",
      "metadata": {
        "id": "MMlGJPoHN8EI",
        "colab_type": "text"
      },
      "source": [
        "Removing the unsuited features from the dataset"
      ]
    },
    {
      "cell_type": "code",
      "metadata": {
        "id": "aD14dseyEyax",
        "colab_type": "code",
        "colab": {}
      },
      "source": [
        "del dataset['conformation_name']\n",
        "del dataset['ID']"
      ],
      "execution_count": 0,
      "outputs": []
    },
    {
      "cell_type": "markdown",
      "metadata": {
        "id": "xcVFzxn3OQ94",
        "colab_type": "text"
      },
      "source": [
        "Checking for the Null Values and removing if any"
      ]
    },
    {
      "cell_type": "code",
      "metadata": {
        "id": "k9LaTkJDZ6qN",
        "colab_type": "code",
        "colab": {
          "base_uri": "https://localhost:8080/",
          "height": 221
        },
        "outputId": "a1c91611-30b1-4206-a430-79f42fe69e6b"
      },
      "source": [
        "dataset.isnull().sum()"
      ],
      "execution_count": 5,
      "outputs": [
        {
          "output_type": "execute_result",
          "data": {
            "text/plain": [
              "molecule_name    0\n",
              "f1               0\n",
              "f2               0\n",
              "f3               0\n",
              "f4               0\n",
              "                ..\n",
              "f163             0\n",
              "f164             0\n",
              "f165             0\n",
              "f166             0\n",
              "class            0\n",
              "Length: 168, dtype: int64"
            ]
          },
          "metadata": {
            "tags": []
          },
          "execution_count": 5
        }
      ]
    },
    {
      "cell_type": "markdown",
      "metadata": {
        "id": "UpBG-EqbOg4D",
        "colab_type": "text"
      },
      "source": [
        "Overview of the dataset "
      ]
    },
    {
      "cell_type": "code",
      "metadata": {
        "id": "BanQ9XoIUtqH",
        "colab_type": "code",
        "colab": {
          "base_uri": "https://localhost:8080/",
          "height": 222
        },
        "outputId": "72a2971e-a3dc-4e79-c2c8-f98f4c9861fb"
      },
      "source": [
        "dataset.head(4)"
      ],
      "execution_count": 6,
      "outputs": [
        {
          "output_type": "execute_result",
          "data": {
            "text/html": [
              "<div>\n",
              "<style scoped>\n",
              "    .dataframe tbody tr th:only-of-type {\n",
              "        vertical-align: middle;\n",
              "    }\n",
              "\n",
              "    .dataframe tbody tr th {\n",
              "        vertical-align: top;\n",
              "    }\n",
              "\n",
              "    .dataframe thead th {\n",
              "        text-align: right;\n",
              "    }\n",
              "</style>\n",
              "<table border=\"1\" class=\"dataframe\">\n",
              "  <thead>\n",
              "    <tr style=\"text-align: right;\">\n",
              "      <th></th>\n",
              "      <th>molecule_name</th>\n",
              "      <th>f1</th>\n",
              "      <th>f2</th>\n",
              "      <th>f3</th>\n",
              "      <th>f4</th>\n",
              "      <th>f5</th>\n",
              "      <th>f6</th>\n",
              "      <th>f7</th>\n",
              "      <th>f8</th>\n",
              "      <th>f9</th>\n",
              "      <th>f10</th>\n",
              "      <th>f11</th>\n",
              "      <th>f12</th>\n",
              "      <th>f13</th>\n",
              "      <th>f14</th>\n",
              "      <th>f15</th>\n",
              "      <th>f16</th>\n",
              "      <th>f17</th>\n",
              "      <th>f18</th>\n",
              "      <th>f19</th>\n",
              "      <th>f20</th>\n",
              "      <th>f21</th>\n",
              "      <th>f22</th>\n",
              "      <th>f23</th>\n",
              "      <th>f24</th>\n",
              "      <th>f25</th>\n",
              "      <th>f26</th>\n",
              "      <th>f27</th>\n",
              "      <th>f28</th>\n",
              "      <th>f29</th>\n",
              "      <th>f30</th>\n",
              "      <th>f31</th>\n",
              "      <th>f32</th>\n",
              "      <th>f33</th>\n",
              "      <th>f34</th>\n",
              "      <th>f35</th>\n",
              "      <th>f36</th>\n",
              "      <th>f37</th>\n",
              "      <th>f38</th>\n",
              "      <th>f39</th>\n",
              "      <th>...</th>\n",
              "      <th>f128</th>\n",
              "      <th>f129</th>\n",
              "      <th>f130</th>\n",
              "      <th>f131</th>\n",
              "      <th>f132</th>\n",
              "      <th>f133</th>\n",
              "      <th>f134</th>\n",
              "      <th>f135</th>\n",
              "      <th>f136</th>\n",
              "      <th>f137</th>\n",
              "      <th>f138</th>\n",
              "      <th>f139</th>\n",
              "      <th>f140</th>\n",
              "      <th>f141</th>\n",
              "      <th>f142</th>\n",
              "      <th>f143</th>\n",
              "      <th>f144</th>\n",
              "      <th>f145</th>\n",
              "      <th>f146</th>\n",
              "      <th>f147</th>\n",
              "      <th>f148</th>\n",
              "      <th>f149</th>\n",
              "      <th>f150</th>\n",
              "      <th>f151</th>\n",
              "      <th>f152</th>\n",
              "      <th>f153</th>\n",
              "      <th>f154</th>\n",
              "      <th>f155</th>\n",
              "      <th>f156</th>\n",
              "      <th>f157</th>\n",
              "      <th>f158</th>\n",
              "      <th>f159</th>\n",
              "      <th>f160</th>\n",
              "      <th>f161</th>\n",
              "      <th>f162</th>\n",
              "      <th>f163</th>\n",
              "      <th>f164</th>\n",
              "      <th>f165</th>\n",
              "      <th>f166</th>\n",
              "      <th>class</th>\n",
              "    </tr>\n",
              "  </thead>\n",
              "  <tbody>\n",
              "    <tr>\n",
              "      <th>0</th>\n",
              "      <td>MUSK-211</td>\n",
              "      <td>46</td>\n",
              "      <td>-108</td>\n",
              "      <td>-60</td>\n",
              "      <td>-69</td>\n",
              "      <td>-117</td>\n",
              "      <td>49</td>\n",
              "      <td>38</td>\n",
              "      <td>-161</td>\n",
              "      <td>-8</td>\n",
              "      <td>5</td>\n",
              "      <td>-323</td>\n",
              "      <td>-220</td>\n",
              "      <td>-113</td>\n",
              "      <td>-299</td>\n",
              "      <td>-283</td>\n",
              "      <td>-307</td>\n",
              "      <td>-31</td>\n",
              "      <td>-106</td>\n",
              "      <td>-227</td>\n",
              "      <td>-42</td>\n",
              "      <td>-59</td>\n",
              "      <td>-22</td>\n",
              "      <td>-67</td>\n",
              "      <td>189</td>\n",
              "      <td>81</td>\n",
              "      <td>17</td>\n",
              "      <td>-27</td>\n",
              "      <td>-89</td>\n",
              "      <td>-67</td>\n",
              "      <td>105</td>\n",
              "      <td>-116</td>\n",
              "      <td>124</td>\n",
              "      <td>-106</td>\n",
              "      <td>5</td>\n",
              "      <td>-120</td>\n",
              "      <td>63</td>\n",
              "      <td>-165</td>\n",
              "      <td>40</td>\n",
              "      <td>-27</td>\n",
              "      <td>...</td>\n",
              "      <td>81</td>\n",
              "      <td>-114</td>\n",
              "      <td>-187</td>\n",
              "      <td>45</td>\n",
              "      <td>-118</td>\n",
              "      <td>-75</td>\n",
              "      <td>-182</td>\n",
              "      <td>-234</td>\n",
              "      <td>-19</td>\n",
              "      <td>12</td>\n",
              "      <td>-13</td>\n",
              "      <td>-41</td>\n",
              "      <td>-119</td>\n",
              "      <td>-149</td>\n",
              "      <td>70</td>\n",
              "      <td>17</td>\n",
              "      <td>-20</td>\n",
              "      <td>-177</td>\n",
              "      <td>-101</td>\n",
              "      <td>-116</td>\n",
              "      <td>-14</td>\n",
              "      <td>-50</td>\n",
              "      <td>24</td>\n",
              "      <td>-81</td>\n",
              "      <td>-125</td>\n",
              "      <td>-114</td>\n",
              "      <td>-44</td>\n",
              "      <td>128</td>\n",
              "      <td>3</td>\n",
              "      <td>-244</td>\n",
              "      <td>-308</td>\n",
              "      <td>52</td>\n",
              "      <td>-7</td>\n",
              "      <td>39</td>\n",
              "      <td>126</td>\n",
              "      <td>156</td>\n",
              "      <td>-50</td>\n",
              "      <td>-112</td>\n",
              "      <td>96</td>\n",
              "      <td>1</td>\n",
              "    </tr>\n",
              "    <tr>\n",
              "      <th>1</th>\n",
              "      <td>MUSK-211</td>\n",
              "      <td>41</td>\n",
              "      <td>-188</td>\n",
              "      <td>-145</td>\n",
              "      <td>22</td>\n",
              "      <td>-117</td>\n",
              "      <td>-6</td>\n",
              "      <td>57</td>\n",
              "      <td>-171</td>\n",
              "      <td>-39</td>\n",
              "      <td>-100</td>\n",
              "      <td>-319</td>\n",
              "      <td>-111</td>\n",
              "      <td>-228</td>\n",
              "      <td>-281</td>\n",
              "      <td>-281</td>\n",
              "      <td>-300</td>\n",
              "      <td>54</td>\n",
              "      <td>-149</td>\n",
              "      <td>-98</td>\n",
              "      <td>-196</td>\n",
              "      <td>-27</td>\n",
              "      <td>-22</td>\n",
              "      <td>2</td>\n",
              "      <td>75</td>\n",
              "      <td>49</td>\n",
              "      <td>-34</td>\n",
              "      <td>45</td>\n",
              "      <td>-91</td>\n",
              "      <td>32</td>\n",
              "      <td>95</td>\n",
              "      <td>-116</td>\n",
              "      <td>85</td>\n",
              "      <td>-23</td>\n",
              "      <td>42</td>\n",
              "      <td>-58</td>\n",
              "      <td>61</td>\n",
              "      <td>-171</td>\n",
              "      <td>2</td>\n",
              "      <td>-144</td>\n",
              "      <td>...</td>\n",
              "      <td>88</td>\n",
              "      <td>-21</td>\n",
              "      <td>-32</td>\n",
              "      <td>32</td>\n",
              "      <td>-128</td>\n",
              "      <td>-72</td>\n",
              "      <td>-124</td>\n",
              "      <td>-218</td>\n",
              "      <td>-94</td>\n",
              "      <td>53</td>\n",
              "      <td>-79</td>\n",
              "      <td>-20</td>\n",
              "      <td>-35</td>\n",
              "      <td>-26</td>\n",
              "      <td>4</td>\n",
              "      <td>50</td>\n",
              "      <td>17</td>\n",
              "      <td>-177</td>\n",
              "      <td>-102</td>\n",
              "      <td>-121</td>\n",
              "      <td>-66</td>\n",
              "      <td>-77</td>\n",
              "      <td>51</td>\n",
              "      <td>-41</td>\n",
              "      <td>-34</td>\n",
              "      <td>-32</td>\n",
              "      <td>-63</td>\n",
              "      <td>115</td>\n",
              "      <td>-5</td>\n",
              "      <td>-235</td>\n",
              "      <td>-59</td>\n",
              "      <td>-2</td>\n",
              "      <td>52</td>\n",
              "      <td>103</td>\n",
              "      <td>136</td>\n",
              "      <td>169</td>\n",
              "      <td>-61</td>\n",
              "      <td>-136</td>\n",
              "      <td>79</td>\n",
              "      <td>1</td>\n",
              "    </tr>\n",
              "    <tr>\n",
              "      <th>2</th>\n",
              "      <td>MUSK-211</td>\n",
              "      <td>46</td>\n",
              "      <td>-194</td>\n",
              "      <td>-145</td>\n",
              "      <td>28</td>\n",
              "      <td>-117</td>\n",
              "      <td>73</td>\n",
              "      <td>57</td>\n",
              "      <td>-168</td>\n",
              "      <td>-39</td>\n",
              "      <td>-22</td>\n",
              "      <td>-319</td>\n",
              "      <td>-111</td>\n",
              "      <td>-104</td>\n",
              "      <td>-283</td>\n",
              "      <td>-282</td>\n",
              "      <td>-303</td>\n",
              "      <td>52</td>\n",
              "      <td>-152</td>\n",
              "      <td>-97</td>\n",
              "      <td>-225</td>\n",
              "      <td>-28</td>\n",
              "      <td>-22</td>\n",
              "      <td>2</td>\n",
              "      <td>179</td>\n",
              "      <td>49</td>\n",
              "      <td>-33</td>\n",
              "      <td>46</td>\n",
              "      <td>-88</td>\n",
              "      <td>22</td>\n",
              "      <td>79</td>\n",
              "      <td>-116</td>\n",
              "      <td>19</td>\n",
              "      <td>-11</td>\n",
              "      <td>6</td>\n",
              "      <td>-38</td>\n",
              "      <td>71</td>\n",
              "      <td>-175</td>\n",
              "      <td>3</td>\n",
              "      <td>-129</td>\n",
              "      <td>...</td>\n",
              "      <td>64</td>\n",
              "      <td>0</td>\n",
              "      <td>-23</td>\n",
              "      <td>-15</td>\n",
              "      <td>-129</td>\n",
              "      <td>-74</td>\n",
              "      <td>-125</td>\n",
              "      <td>-221</td>\n",
              "      <td>-93</td>\n",
              "      <td>53</td>\n",
              "      <td>-72</td>\n",
              "      <td>-19</td>\n",
              "      <td>-33</td>\n",
              "      <td>-26</td>\n",
              "      <td>3</td>\n",
              "      <td>49</td>\n",
              "      <td>17</td>\n",
              "      <td>-177</td>\n",
              "      <td>-102</td>\n",
              "      <td>-119</td>\n",
              "      <td>-66</td>\n",
              "      <td>-81</td>\n",
              "      <td>51</td>\n",
              "      <td>-41</td>\n",
              "      <td>-27</td>\n",
              "      <td>-41</td>\n",
              "      <td>-140</td>\n",
              "      <td>77</td>\n",
              "      <td>-163</td>\n",
              "      <td>-238</td>\n",
              "      <td>-134</td>\n",
              "      <td>-154</td>\n",
              "      <td>57</td>\n",
              "      <td>143</td>\n",
              "      <td>142</td>\n",
              "      <td>165</td>\n",
              "      <td>-67</td>\n",
              "      <td>-145</td>\n",
              "      <td>39</td>\n",
              "      <td>1</td>\n",
              "    </tr>\n",
              "    <tr>\n",
              "      <th>3</th>\n",
              "      <td>MUSK-211</td>\n",
              "      <td>41</td>\n",
              "      <td>-188</td>\n",
              "      <td>-145</td>\n",
              "      <td>22</td>\n",
              "      <td>-117</td>\n",
              "      <td>-7</td>\n",
              "      <td>57</td>\n",
              "      <td>-170</td>\n",
              "      <td>-39</td>\n",
              "      <td>-99</td>\n",
              "      <td>-319</td>\n",
              "      <td>-111</td>\n",
              "      <td>-228</td>\n",
              "      <td>-282</td>\n",
              "      <td>-281</td>\n",
              "      <td>-301</td>\n",
              "      <td>54</td>\n",
              "      <td>-150</td>\n",
              "      <td>-98</td>\n",
              "      <td>-196</td>\n",
              "      <td>-28</td>\n",
              "      <td>-22</td>\n",
              "      <td>2</td>\n",
              "      <td>77</td>\n",
              "      <td>48</td>\n",
              "      <td>-34</td>\n",
              "      <td>46</td>\n",
              "      <td>-91</td>\n",
              "      <td>32</td>\n",
              "      <td>94</td>\n",
              "      <td>-116</td>\n",
              "      <td>84</td>\n",
              "      <td>-23</td>\n",
              "      <td>41</td>\n",
              "      <td>-58</td>\n",
              "      <td>62</td>\n",
              "      <td>-171</td>\n",
              "      <td>3</td>\n",
              "      <td>-144</td>\n",
              "      <td>...</td>\n",
              "      <td>88</td>\n",
              "      <td>-20</td>\n",
              "      <td>-32</td>\n",
              "      <td>32</td>\n",
              "      <td>-128</td>\n",
              "      <td>-73</td>\n",
              "      <td>-125</td>\n",
              "      <td>-220</td>\n",
              "      <td>-93</td>\n",
              "      <td>53</td>\n",
              "      <td>-78</td>\n",
              "      <td>-19</td>\n",
              "      <td>-34</td>\n",
              "      <td>-26</td>\n",
              "      <td>4</td>\n",
              "      <td>50</td>\n",
              "      <td>17</td>\n",
              "      <td>-177</td>\n",
              "      <td>-101</td>\n",
              "      <td>-121</td>\n",
              "      <td>-65</td>\n",
              "      <td>-77</td>\n",
              "      <td>52</td>\n",
              "      <td>-41</td>\n",
              "      <td>-34</td>\n",
              "      <td>-32</td>\n",
              "      <td>-66</td>\n",
              "      <td>115</td>\n",
              "      <td>-7</td>\n",
              "      <td>-236</td>\n",
              "      <td>-60</td>\n",
              "      <td>-4</td>\n",
              "      <td>52</td>\n",
              "      <td>104</td>\n",
              "      <td>136</td>\n",
              "      <td>168</td>\n",
              "      <td>-60</td>\n",
              "      <td>-135</td>\n",
              "      <td>80</td>\n",
              "      <td>1</td>\n",
              "    </tr>\n",
              "  </tbody>\n",
              "</table>\n",
              "<p>4 rows × 168 columns</p>\n",
              "</div>"
            ],
            "text/plain": [
              "  molecule_name  f1   f2   f3  f4   f5  ...  f162  f163  f164  f165  f166  class\n",
              "0      MUSK-211  46 -108  -60 -69 -117  ...   126   156   -50  -112    96      1\n",
              "1      MUSK-211  41 -188 -145  22 -117  ...   136   169   -61  -136    79      1\n",
              "2      MUSK-211  46 -194 -145  28 -117  ...   142   165   -67  -145    39      1\n",
              "3      MUSK-211  41 -188 -145  22 -117  ...   136   168   -60  -135    80      1\n",
              "\n",
              "[4 rows x 168 columns]"
            ]
          },
          "metadata": {
            "tags": []
          },
          "execution_count": 6
        }
      ]
    },
    {
      "cell_type": "markdown",
      "metadata": {
        "id": "mo6utv5cPcG9",
        "colab_type": "text"
      },
      "source": [
        "Label and Features splitting from the dataset"
      ]
    },
    {
      "cell_type": "code",
      "metadata": {
        "id": "t-j5NsAHUya2",
        "colab_type": "code",
        "colab": {}
      },
      "source": [
        "label =dataset.iloc[:,-1:].values\n",
        "data =dataset.iloc[:,:-1].values"
      ],
      "execution_count": 0,
      "outputs": []
    },
    {
      "cell_type": "markdown",
      "metadata": {
        "id": "HzQY2oDbPPtl",
        "colab_type": "text"
      },
      "source": [
        "##Preprocessing the dataset"
      ]
    },
    {
      "cell_type": "markdown",
      "metadata": {
        "id": "Tlo9DnWQPUFv",
        "colab_type": "text"
      },
      "source": [
        "* Applying LabelEncoding on the dataset\n",
        "* Applying L2 normalization on dataset\n",
        "* Train Test split in ratio of 80/20"
      ]
    },
    {
      "cell_type": "code",
      "metadata": {
        "id": "86LhiHwBcoN4",
        "colab_type": "code",
        "colab": {}
      },
      "source": [
        "data[:,0:1] =preprocessing.OrdinalEncoder().fit_transform(data[:,0:1])"
      ],
      "execution_count": 0,
      "outputs": []
    },
    {
      "cell_type": "code",
      "metadata": {
        "id": "L25Ri084e9fF",
        "colab_type": "code",
        "colab": {}
      },
      "source": [
        "data[:,1:] = preprocessing.normalize(data[:,1:], norm='l2')"
      ],
      "execution_count": 0,
      "outputs": []
    },
    {
      "cell_type": "code",
      "metadata": {
        "id": "dc5vN92nf7s5",
        "colab_type": "code",
        "colab": {}
      },
      "source": [
        "train_X, test_X, train_y, test_y =model_selection.train_test_split(data, label, train_size=0.8) "
      ],
      "execution_count": 0,
      "outputs": []
    },
    {
      "cell_type": "code",
      "metadata": {
        "id": "2gdSgj4Zf7lR",
        "colab_type": "code",
        "colab": {}
      },
      "source": [
        "\"\"\"from sklearn.preprocessing import StandardScaler\n",
        "sc_x = StandardScaler()\n",
        "train_X = sc_x.fit_transform(train_X)\n",
        "test_X = sc_x.transform(test_X)\"\"\""
      ],
      "execution_count": 0,
      "outputs": []
    },
    {
      "cell_type": "markdown",
      "metadata": {
        "id": "aggOCECtfpVp",
        "colab_type": "text"
      },
      "source": [
        "#Defining the Model"
      ]
    },
    {
      "cell_type": "code",
      "metadata": {
        "id": "c-FzgEDzfciS",
        "colab_type": "code",
        "colab": {
          "base_uri": "https://localhost:8080/",
          "height": 88
        },
        "outputId": "d272c063-c015-4d47-8862-24cd381ffe67"
      },
      "source": [
        "classifier =tf.keras.models.Sequential([\n",
        "    tf.keras.layers.Dense(units=256, activation='relu', input_dim=167),\n",
        "    tf.keras.layers.Dropout(0.5),\n",
        "    tf.keras.layers.Dense(512, activation=\"relu\"),\n",
        "    tf.keras.layers.Dropout(0.5),\n",
        "    tf.keras.layers.Dense(512, activation=\"relu\"),\n",
        "    tf.keras.layers.Dropout(0.5),\n",
        "    tf.keras.layers.Dense(128, activation=\"relu\"),\n",
        "    tf.keras.layers.Dropout(0.5),\n",
        "    tf.keras.layers.Dense(64, activation=\"relu\"),\n",
        "    tf.keras.layers.Dropout(0.5),\n",
        "    tf.keras.layers.Dense(1,activation=\"sigmoid\")\n",
        "])"
      ],
      "execution_count": 13,
      "outputs": [
        {
          "output_type": "stream",
          "text": [
            "WARNING:tensorflow:From /usr/local/lib/python3.6/dist-packages/tensorflow_core/python/ops/resource_variable_ops.py:1630: calling BaseResourceVariable.__init__ (from tensorflow.python.ops.resource_variable_ops) with constraint is deprecated and will be removed in a future version.\n",
            "Instructions for updating:\n",
            "If using Keras pass *_constraint arguments to layers.\n"
          ],
          "name": "stdout"
        }
      ]
    },
    {
      "cell_type": "code",
      "metadata": {
        "id": "S63ReRsYio0w",
        "colab_type": "code",
        "colab": {
          "base_uri": "https://localhost:8080/",
          "height": 527
        },
        "outputId": "8645bc2b-bba5-4850-9208-3801e37a9fc5"
      },
      "source": [
        "classifier.summary()"
      ],
      "execution_count": 14,
      "outputs": [
        {
          "output_type": "stream",
          "text": [
            "Model: \"sequential\"\n",
            "_________________________________________________________________\n",
            "Layer (type)                 Output Shape              Param #   \n",
            "=================================================================\n",
            "dense (Dense)                (None, 256)               43008     \n",
            "_________________________________________________________________\n",
            "dropout (Dropout)            (None, 256)               0         \n",
            "_________________________________________________________________\n",
            "dense_1 (Dense)              (None, 512)               131584    \n",
            "_________________________________________________________________\n",
            "dropout_1 (Dropout)          (None, 512)               0         \n",
            "_________________________________________________________________\n",
            "dense_2 (Dense)              (None, 512)               262656    \n",
            "_________________________________________________________________\n",
            "dropout_2 (Dropout)          (None, 512)               0         \n",
            "_________________________________________________________________\n",
            "dense_3 (Dense)              (None, 128)               65664     \n",
            "_________________________________________________________________\n",
            "dropout_3 (Dropout)          (None, 128)               0         \n",
            "_________________________________________________________________\n",
            "dense_4 (Dense)              (None, 64)                8256      \n",
            "_________________________________________________________________\n",
            "dropout_4 (Dropout)          (None, 64)                0         \n",
            "_________________________________________________________________\n",
            "dense_5 (Dense)              (None, 1)                 65        \n",
            "=================================================================\n",
            "Total params: 511,233\n",
            "Trainable params: 511,233\n",
            "Non-trainable params: 0\n",
            "_________________________________________________________________\n"
          ],
          "name": "stdout"
        }
      ]
    },
    {
      "cell_type": "code",
      "metadata": {
        "id": "a-8AUqAqisMF",
        "colab_type": "code",
        "colab": {
          "base_uri": "https://localhost:8080/",
          "height": 88
        },
        "outputId": "0e0f21fc-9149-4535-a262-dc99477c5b88"
      },
      "source": [
        "classifier.compile(optimizer ='adam', loss = 'binary_crossentropy', metrics = ['accuracy'])"
      ],
      "execution_count": 15,
      "outputs": [
        {
          "output_type": "stream",
          "text": [
            "WARNING:tensorflow:From /usr/local/lib/python3.6/dist-packages/tensorflow_core/python/ops/nn_impl.py:183: where (from tensorflow.python.ops.array_ops) is deprecated and will be removed in a future version.\n",
            "Instructions for updating:\n",
            "Use tf.where in 2.0, which has the same broadcast rule as np.where\n"
          ],
          "name": "stdout"
        }
      ]
    },
    {
      "cell_type": "code",
      "metadata": {
        "id": "ChzH0PgpjT_T",
        "colab_type": "code",
        "colab": {
          "base_uri": "https://localhost:8080/",
          "height": 1000
        },
        "outputId": "03ad15a3-8a20-48b7-bad4-a5bf94dd847a"
      },
      "source": [
        "history =classifier.fit(train_X, train_y, batch_size = 128, epochs = 50, verbose = 1, validation_data = (test_X, test_y))"
      ],
      "execution_count": 16,
      "outputs": [
        {
          "output_type": "stream",
          "text": [
            "Train on 5278 samples, validate on 1320 samples\n",
            "Epoch 1/50\n",
            "5278/5278 [==============================] - 1s 156us/sample - loss: 0.4193 - acc: 0.8302 - val_loss: 0.2798 - val_acc: 0.9152\n",
            "Epoch 2/50\n",
            "5278/5278 [==============================] - 0s 49us/sample - loss: 0.2298 - acc: 0.8930 - val_loss: 0.3237 - val_acc: 0.9341\n",
            "Epoch 3/50\n",
            "5278/5278 [==============================] - 0s 49us/sample - loss: 0.2126 - acc: 0.9197 - val_loss: 0.3643 - val_acc: 0.9667\n",
            "Epoch 4/50\n",
            "5278/5278 [==============================] - 0s 51us/sample - loss: 0.1852 - acc: 0.9371 - val_loss: 0.3151 - val_acc: 0.9795\n",
            "Epoch 5/50\n",
            "5278/5278 [==============================] - 0s 47us/sample - loss: 0.1585 - acc: 0.9505 - val_loss: 0.2155 - val_acc: 0.9818\n",
            "Epoch 6/50\n",
            "5278/5278 [==============================] - 0s 47us/sample - loss: 0.1220 - acc: 0.9625 - val_loss: 0.1146 - val_acc: 0.9924\n",
            "Epoch 7/50\n",
            "5278/5278 [==============================] - 0s 47us/sample - loss: 0.0811 - acc: 0.9731 - val_loss: 0.0498 - val_acc: 0.9917\n",
            "Epoch 8/50\n",
            "5278/5278 [==============================] - 0s 53us/sample - loss: 0.0430 - acc: 0.9843 - val_loss: 0.0185 - val_acc: 0.9939\n",
            "Epoch 9/50\n",
            "5278/5278 [==============================] - 0s 46us/sample - loss: 0.0296 - acc: 0.9915 - val_loss: 0.0357 - val_acc: 0.9947\n",
            "Epoch 10/50\n",
            "5278/5278 [==============================] - 0s 47us/sample - loss: 0.0213 - acc: 0.9943 - val_loss: 0.0108 - val_acc: 0.9932\n",
            "Epoch 11/50\n",
            "5278/5278 [==============================] - 0s 48us/sample - loss: 0.0177 - acc: 0.9937 - val_loss: 0.0282 - val_acc: 0.9939\n",
            "Epoch 12/50\n",
            "5278/5278 [==============================] - 0s 53us/sample - loss: 0.0122 - acc: 0.9953 - val_loss: 0.0084 - val_acc: 0.9955\n",
            "Epoch 13/50\n",
            "5278/5278 [==============================] - 0s 47us/sample - loss: 0.0100 - acc: 0.9973 - val_loss: 0.0068 - val_acc: 0.9955\n",
            "Epoch 14/50\n",
            "5278/5278 [==============================] - 0s 51us/sample - loss: 0.0080 - acc: 0.9975 - val_loss: 0.0025 - val_acc: 0.9992\n",
            "Epoch 15/50\n",
            "5278/5278 [==============================] - 0s 49us/sample - loss: 0.0051 - acc: 0.9991 - val_loss: 0.0036 - val_acc: 0.9992\n",
            "Epoch 16/50\n",
            "5278/5278 [==============================] - 0s 51us/sample - loss: 0.0080 - acc: 0.9973 - val_loss: 0.0028 - val_acc: 0.9985\n",
            "Epoch 17/50\n",
            "5278/5278 [==============================] - 0s 48us/sample - loss: 0.0071 - acc: 0.9975 - val_loss: 0.0017 - val_acc: 1.0000\n",
            "Epoch 18/50\n",
            "5278/5278 [==============================] - 0s 51us/sample - loss: 0.0068 - acc: 0.9985 - val_loss: 0.0092 - val_acc: 0.9977\n",
            "Epoch 19/50\n",
            "5278/5278 [==============================] - 0s 49us/sample - loss: 0.0027 - acc: 0.9992 - val_loss: 5.7129e-04 - val_acc: 1.0000\n",
            "Epoch 20/50\n",
            "5278/5278 [==============================] - 0s 50us/sample - loss: 0.0020 - acc: 0.9998 - val_loss: 8.4910e-04 - val_acc: 1.0000\n",
            "Epoch 21/50\n",
            "5278/5278 [==============================] - 0s 50us/sample - loss: 0.0035 - acc: 0.9985 - val_loss: 0.0023 - val_acc: 0.9992\n",
            "Epoch 22/50\n",
            "5278/5278 [==============================] - 0s 50us/sample - loss: 0.0086 - acc: 0.9973 - val_loss: 0.0012 - val_acc: 1.0000\n",
            "Epoch 23/50\n",
            "5278/5278 [==============================] - 0s 53us/sample - loss: 0.0017 - acc: 0.9994 - val_loss: 1.8477e-04 - val_acc: 1.0000\n",
            "Epoch 24/50\n",
            "5278/5278 [==============================] - 0s 48us/sample - loss: 0.0014 - acc: 0.9998 - val_loss: 1.5608e-04 - val_acc: 1.0000\n",
            "Epoch 25/50\n",
            "5278/5278 [==============================] - 0s 48us/sample - loss: 0.0016 - acc: 0.9996 - val_loss: 7.3414e-05 - val_acc: 1.0000\n",
            "Epoch 26/50\n",
            "5278/5278 [==============================] - 0s 48us/sample - loss: 0.0041 - acc: 0.9983 - val_loss: 0.0056 - val_acc: 0.9962\n",
            "Epoch 27/50\n",
            "5278/5278 [==============================] - 0s 50us/sample - loss: 0.0048 - acc: 0.9991 - val_loss: 2.0761e-04 - val_acc: 1.0000\n",
            "Epoch 28/50\n",
            "5278/5278 [==============================] - 0s 49us/sample - loss: 7.0836e-04 - acc: 1.0000 - val_loss: 8.7718e-05 - val_acc: 1.0000\n",
            "Epoch 29/50\n",
            "5278/5278 [==============================] - 0s 51us/sample - loss: 4.1408e-04 - acc: 1.0000 - val_loss: 6.1673e-05 - val_acc: 1.0000\n",
            "Epoch 30/50\n",
            "5278/5278 [==============================] - 0s 51us/sample - loss: 6.3632e-04 - acc: 0.9998 - val_loss: 3.9474e-04 - val_acc: 1.0000\n",
            "Epoch 31/50\n",
            "5278/5278 [==============================] - 0s 51us/sample - loss: 8.3736e-04 - acc: 0.9998 - val_loss: 2.7565e-05 - val_acc: 1.0000\n",
            "Epoch 32/50\n",
            "5278/5278 [==============================] - 0s 47us/sample - loss: 3.0846e-04 - acc: 1.0000 - val_loss: 2.8507e-05 - val_acc: 1.0000\n",
            "Epoch 33/50\n",
            "5278/5278 [==============================] - 0s 49us/sample - loss: 2.1448e-04 - acc: 1.0000 - val_loss: 1.2802e-05 - val_acc: 1.0000\n",
            "Epoch 34/50\n",
            "5278/5278 [==============================] - 0s 48us/sample - loss: 6.2508e-04 - acc: 0.9998 - val_loss: 3.5266e-05 - val_acc: 1.0000\n",
            "Epoch 35/50\n",
            "5278/5278 [==============================] - 0s 51us/sample - loss: 3.1853e-04 - acc: 1.0000 - val_loss: 7.8800e-06 - val_acc: 1.0000\n",
            "Epoch 36/50\n",
            "5278/5278 [==============================] - 0s 49us/sample - loss: 1.3911e-04 - acc: 1.0000 - val_loss: 6.1028e-06 - val_acc: 1.0000\n",
            "Epoch 37/50\n",
            "5278/5278 [==============================] - 0s 50us/sample - loss: 4.9183e-04 - acc: 0.9998 - val_loss: 3.0322e-06 - val_acc: 1.0000\n",
            "Epoch 38/50\n",
            "5278/5278 [==============================] - 0s 49us/sample - loss: 1.4071e-04 - acc: 1.0000 - val_loss: 2.4317e-06 - val_acc: 1.0000\n",
            "Epoch 39/50\n",
            "5278/5278 [==============================] - 0s 50us/sample - loss: 1.9255e-04 - acc: 1.0000 - val_loss: 9.1176e-06 - val_acc: 1.0000\n",
            "Epoch 40/50\n",
            "5278/5278 [==============================] - 0s 50us/sample - loss: 4.3550e-04 - acc: 0.9998 - val_loss: 2.2281e-05 - val_acc: 1.0000\n",
            "Epoch 41/50\n",
            "5278/5278 [==============================] - 0s 50us/sample - loss: 0.0014 - acc: 0.9998 - val_loss: 7.3908e-05 - val_acc: 1.0000\n",
            "Epoch 42/50\n",
            "5278/5278 [==============================] - 0s 48us/sample - loss: 7.7762e-04 - acc: 0.9998 - val_loss: 6.3330e-06 - val_acc: 1.0000\n",
            "Epoch 43/50\n",
            "5278/5278 [==============================] - 0s 52us/sample - loss: 1.9209e-04 - acc: 1.0000 - val_loss: 4.6171e-06 - val_acc: 1.0000\n",
            "Epoch 44/50\n",
            "5278/5278 [==============================] - 0s 51us/sample - loss: 0.0016 - acc: 0.9996 - val_loss: 2.9781e-05 - val_acc: 1.0000\n",
            "Epoch 45/50\n",
            "5278/5278 [==============================] - 0s 48us/sample - loss: 0.0033 - acc: 0.9989 - val_loss: 4.5145e-05 - val_acc: 1.0000\n",
            "Epoch 46/50\n",
            "5278/5278 [==============================] - 0s 49us/sample - loss: 0.0081 - acc: 0.9979 - val_loss: 6.6865e-04 - val_acc: 1.0000\n",
            "Epoch 47/50\n",
            "5278/5278 [==============================] - 0s 47us/sample - loss: 0.0019 - acc: 0.9994 - val_loss: 2.9002e-04 - val_acc: 1.0000\n",
            "Epoch 48/50\n",
            "5278/5278 [==============================] - 0s 49us/sample - loss: 9.8531e-04 - acc: 0.9998 - val_loss: 7.7227e-05 - val_acc: 1.0000\n",
            "Epoch 49/50\n",
            "5278/5278 [==============================] - 0s 47us/sample - loss: 2.4704e-04 - acc: 1.0000 - val_loss: 8.2154e-06 - val_acc: 1.0000\n",
            "Epoch 50/50\n",
            "5278/5278 [==============================] - 0s 50us/sample - loss: 2.5898e-04 - acc: 1.0000 - val_loss: 1.2430e-05 - val_acc: 1.0000\n"
          ],
          "name": "stdout"
        }
      ]
    },
    {
      "cell_type": "markdown",
      "metadata": {
        "id": "QcTQQ2v4QnAb",
        "colab_type": "text"
      },
      "source": [
        "#Visualising of the Training and Validation loss as well as accuracy"
      ]
    },
    {
      "cell_type": "code",
      "metadata": {
        "id": "IcQaQbf-J4Y-",
        "colab_type": "code",
        "colab": {
          "base_uri": "https://localhost:8080/",
          "height": 562
        },
        "outputId": "4a0ebd53-36d4-4ea6-896c-1454e6d81df0"
      },
      "source": [
        "# sets for each training epoch\n",
        "acc      = history.history[     'acc' ]\n",
        "val_acc  = history.history[ 'val_acc' ]\n",
        "loss     = history.history[    'loss' ]\n",
        "val_loss = history.history['val_loss' ]\n",
        "\n",
        "epochs   = range(len(acc)) # Get number of epochs\n",
        "\n",
        "# Plot training and validation accuracy per epoch\n",
        "\n",
        "plt.plot  ( epochs,     acc , color='red'  ,label=\"training\")\n",
        "plt.plot  ( epochs, val_acc , color='blue' ,label=\"validation\")\n",
        "plt.title ('Training and validation accuracy')\n",
        "plt.legend()\n",
        "plt.figure()\n",
        "\n",
        "# Plot training and validation loss per epoch\n",
        "\n",
        "plt.plot  ( epochs,     loss ,color='red'  ,label=\"training\")\n",
        "plt.plot  ( epochs, val_loss ,color='blue' ,label=\"validation\")\n",
        "plt.legend()\n",
        "plt.title ('Training and validation loss'   )"
      ],
      "execution_count": 17,
      "outputs": [
        {
          "output_type": "execute_result",
          "data": {
            "text/plain": [
              "Text(0.5, 1.0, 'Training and validation loss')"
            ]
          },
          "metadata": {
            "tags": []
          },
          "execution_count": 17
        },
        {
          "output_type": "display_data",
          "data": {
            "image/png": "[encoded data removed]",
            "text/plain": [
              "<Figure size 432x288 with 1 Axes>"
            ]
          },
          "metadata": {
            "tags": []
          }
        },
        {
          "output_type": "display_data",
          "data": {
            "image/png": "[encoded data removed]",
            "text/plain": [
              "<Figure size 432x288 with 1 Axes>"
            ]
          },
          "metadata": {
            "tags": []
          }
        }
      ]
    },
    {
      "cell_type": "markdown",
      "metadata": {
        "id": "tiEVKmD3Re_s",
        "colab_type": "text"
      },
      "source": [
        "#Prediction results on the Validation Split and Analysis\n",
        "* Accuracy \n",
        "* Precision\n",
        "* Recall\n",
        "* F1"
      ]
    },
    {
      "cell_type": "code",
      "metadata": {
        "id": "cs8OeuhbMRx-",
        "colab_type": "code",
        "colab": {}
      },
      "source": [
        "result =classifier.predict(test_X)\n",
        "result =(result>0.5)"
      ],
      "execution_count": 0,
      "outputs": []
    },
    {
      "cell_type": "code",
      "metadata": {
        "id": "p7HTqQBOMRgl",
        "colab_type": "code",
        "colab": {
          "base_uri": "https://localhost:8080/",
          "height": 51
        },
        "outputId": "afba5c15-b2ac-442e-fc02-adc0f19b3831"
      },
      "source": [
        "cm =confusion_matrix(test_y ,result)\n",
        "cm"
      ],
      "execution_count": 23,
      "outputs": [
        {
          "output_type": "execute_result",
          "data": {
            "text/plain": [
              "array([[1115,    0],\n",
              "       [   0,  205]])"
            ]
          },
          "metadata": {
            "tags": []
          },
          "execution_count": 23
        }
      ]
    },
    {
      "cell_type": "code",
      "metadata": {
        "id": "dXVUwFFIMRZx",
        "colab_type": "code",
        "colab": {}
      },
      "source": [
        "accuracy =accuracy_score(test_y,result)\n",
        "precision = cm[1][1]/(cm[1][1] + cm[0][1])\n",
        "Recall = cm[1][1]/(cm[1][1] + cm[1][0])\n",
        "f1 = (2*precision*Recall)/(precision+Recall)"
      ],
      "execution_count": 0,
      "outputs": []
    },
    {
      "cell_type": "code",
      "metadata": {
        "id": "Y8kyClXCVYrh",
        "colab_type": "code",
        "colab": {
          "base_uri": "https://localhost:8080/",
          "height": 85
        },
        "outputId": "0f502a86-a598-4096-8bbb-b8b7c65c0952"
      },
      "source": [
        "print(\"Accuracy of model\",accuracy)\n",
        "print(\"Precision of model\",precision)\n",
        "print(\"Recall of model\",Recall)\n",
        "print(\"F1 score of model\",f1)"
      ],
      "execution_count": 27,
      "outputs": [
        {
          "output_type": "stream",
          "text": [
            "Accuracy of model 1.0\n",
            "Precision of model 1.0\n",
            "Recall of model 1.0\n",
            "F1 score of model 1.0\n"
          ],
          "name": "stdout"
        }
      ]
    },
    {
      "cell_type": "markdown",
      "metadata": {
        "id": "n8G80r6pRx_m",
        "colab_type": "text"
      },
      "source": [
        "#saving of model bias"
      ]
    },
    {
      "cell_type": "code",
      "metadata": {
        "id": "sWNiBz9RloYi",
        "colab_type": "code",
        "colab": {}
      },
      "source": [
        "classifier.save_weights('classifier_weights.h5')"
      ],
      "execution_count": 0,
      "outputs": []
    },
    {
      "cell_type": "code",
      "metadata": {
        "id": "FeEBPWjVLziZ",
        "colab_type": "code",
        "colab": {}
      },
      "source": [
        ""
      ],
      "execution_count": 0,
      "outputs": []
    }
  ]
}